{
  "nbformat": 4,
  "nbformat_minor": 0,
  "metadata": {
    "colab": {
      "name": "Sarcasm Detection.ipynb",
      "provenance": [],
      "collapsed_sections": [],
      "mount_file_id": "1h0KZa9qjqLT39oqLNCYksfkti-We7BKI",
      "authorship_tag": "ABX9TyM6MiaqeRt1ubNH7AKWfWvf",
      "include_colab_link": true
    },
    "kernelspec": {
      "name": "python3",
      "display_name": "Python 3"
    },
    "language_info": {
      "name": "python"
    },
    "accelerator": "GPU"
  },
  "cells": [
    {
      "cell_type": "markdown",
      "metadata": {
        "id": "view-in-github",
        "colab_type": "text"
      },
      "source": [
        "<a href=\"https://colab.research.google.com/github/shiv9thakur/sarcasm_detection/blob/main/Sarcasm_Detection.ipynb\" target=\"_parent\"><img src=\"https://colab.research.google.com/assets/colab-badge.svg\" alt=\"Open In Colab\"/></a>"
      ]
    },
    {
      "cell_type": "markdown",
      "source": [
        "# Sarcasm Detection\n",
        "\n",
        "## Motivation\n",
        "\n",
        "There is a Character Dr. Sheldon Lee Cooper-in a sitcom The Big Bang Theory- who can't get hold of sarcasm and is always taking it in a literal way. I had an understanding that sarcasm does have a learning curve to go through in order to get a hold of it and hence have attempted to rectify his problem.\n",
        "\n",
        "## Application\n",
        "\n",
        "Is not understanding sarcasm a ‘big deal’? Turns out it is because it is so prevalent, and not understanding it makes you stand out.\n",
        "\n",
        "Someone once said that ‘sarcasm is a metric for potential.’ Often at times, this is one of the hardest struggles for those with autism growing up.A lack of sarcasm is often one of the most common characteristics of struggling with an autism diagnosis along with things such as social and communication issues, difficulties reading body language, using different tones in their voices, and many more. This results in them feeling separated from the conversations and hence feel left out. The model is an attempt to be at service of those and can further be used to help understand other expressions hidden in a person's statement.\n"
      ],
      "metadata": {
        "id": "6w3ksYy-HEkN"
      }
    },
    {
      "cell_type": "markdown",
      "source": [
        "\n",
        "## Data\n",
        "\n",
        "The data being used is otbained from kaggle.\n",
        "\n",
        "https://www.kaggle.com/theynalzada/news-headlines-for-sarcasm-detection\n",
        "\n",
        "There is still a strong need to acquire a bigger dataset to give adequate training to the model being generated. The data is also just from news headlines and hence can be further diversified to movie dialogues, reviews and songs to get improve data quality and ad features such as tone."
      ],
      "metadata": {
        "id": "Lkh85evieUUH"
      }
    },
    {
      "cell_type": "markdown",
      "source": [
        "## Data Cleaning\n"
      ],
      "metadata": {
        "id": "17dC7Fd6eFt6"
      }
    },
    {
      "cell_type": "markdown",
      "source": [
        "Importing Libraries"
      ],
      "metadata": {
        "id": "GAruPmTFbVIM"
      }
    },
    {
      "cell_type": "code",
      "source": [
        "!pip3 install tensorflow_text"
      ],
      "metadata": {
        "colab": {
          "base_uri": "https://localhost:8080/"
        },
        "id": "OdegXhsKbp6w",
        "outputId": "e840d310-c574-4162-fbb1-2c45952e883e"
      },
      "execution_count": 3,
      "outputs": [
        {
          "output_type": "stream",
          "name": "stdout",
          "text": [
            "Collecting tensorflow_text\n",
            "  Downloading tensorflow_text-2.7.3-cp37-cp37m-manylinux2010_x86_64.whl (4.9 MB)\n",
            "\u001b[K     |████████████████████████████████| 4.9 MB 5.2 MB/s \n",
            "\u001b[?25hRequirement already satisfied: tensorflow<2.8,>=2.7.0 in /usr/local/lib/python3.7/dist-packages (from tensorflow_text) (2.7.0)\n",
            "Requirement already satisfied: tensorflow-hub>=0.8.0 in /usr/local/lib/python3.7/dist-packages (from tensorflow_text) (0.12.0)\n",
            "Requirement already satisfied: termcolor>=1.1.0 in /usr/local/lib/python3.7/dist-packages (from tensorflow<2.8,>=2.7.0->tensorflow_text) (1.1.0)\n",
            "Requirement already satisfied: keras<2.8,>=2.7.0rc0 in /usr/local/lib/python3.7/dist-packages (from tensorflow<2.8,>=2.7.0->tensorflow_text) (2.7.0)\n",
            "Requirement already satisfied: gast<0.5.0,>=0.2.1 in /usr/local/lib/python3.7/dist-packages (from tensorflow<2.8,>=2.7.0->tensorflow_text) (0.4.0)\n",
            "Requirement already satisfied: astunparse>=1.6.0 in /usr/local/lib/python3.7/dist-packages (from tensorflow<2.8,>=2.7.0->tensorflow_text) (1.6.3)\n",
            "Requirement already satisfied: google-pasta>=0.1.1 in /usr/local/lib/python3.7/dist-packages (from tensorflow<2.8,>=2.7.0->tensorflow_text) (0.2.0)\n",
            "Requirement already satisfied: keras-preprocessing>=1.1.1 in /usr/local/lib/python3.7/dist-packages (from tensorflow<2.8,>=2.7.0->tensorflow_text) (1.1.2)\n",
            "Requirement already satisfied: wheel<1.0,>=0.32.0 in /usr/local/lib/python3.7/dist-packages (from tensorflow<2.8,>=2.7.0->tensorflow_text) (0.37.0)\n",
            "Requirement already satisfied: absl-py>=0.4.0 in /usr/local/lib/python3.7/dist-packages (from tensorflow<2.8,>=2.7.0->tensorflow_text) (0.12.0)\n",
            "Requirement already satisfied: protobuf>=3.9.2 in /usr/local/lib/python3.7/dist-packages (from tensorflow<2.8,>=2.7.0->tensorflow_text) (3.17.3)\n",
            "Requirement already satisfied: h5py>=2.9.0 in /usr/local/lib/python3.7/dist-packages (from tensorflow<2.8,>=2.7.0->tensorflow_text) (3.1.0)\n",
            "Requirement already satisfied: tensorflow-io-gcs-filesystem>=0.21.0 in /usr/local/lib/python3.7/dist-packages (from tensorflow<2.8,>=2.7.0->tensorflow_text) (0.22.0)\n",
            "Requirement already satisfied: libclang>=9.0.1 in /usr/local/lib/python3.7/dist-packages (from tensorflow<2.8,>=2.7.0->tensorflow_text) (12.0.0)\n",
            "Requirement already satisfied: typing-extensions>=3.6.6 in /usr/local/lib/python3.7/dist-packages (from tensorflow<2.8,>=2.7.0->tensorflow_text) (3.10.0.2)\n",
            "Requirement already satisfied: six>=1.12.0 in /usr/local/lib/python3.7/dist-packages (from tensorflow<2.8,>=2.7.0->tensorflow_text) (1.15.0)\n",
            "Requirement already satisfied: tensorboard~=2.6 in /usr/local/lib/python3.7/dist-packages (from tensorflow<2.8,>=2.7.0->tensorflow_text) (2.7.0)\n",
            "Requirement already satisfied: numpy>=1.14.5 in /usr/local/lib/python3.7/dist-packages (from tensorflow<2.8,>=2.7.0->tensorflow_text) (1.19.5)\n",
            "Requirement already satisfied: wrapt>=1.11.0 in /usr/local/lib/python3.7/dist-packages (from tensorflow<2.8,>=2.7.0->tensorflow_text) (1.13.3)\n",
            "Requirement already satisfied: flatbuffers<3.0,>=1.12 in /usr/local/lib/python3.7/dist-packages (from tensorflow<2.8,>=2.7.0->tensorflow_text) (2.0)\n",
            "Requirement already satisfied: grpcio<2.0,>=1.24.3 in /usr/local/lib/python3.7/dist-packages (from tensorflow<2.8,>=2.7.0->tensorflow_text) (1.42.0)\n",
            "Requirement already satisfied: opt-einsum>=2.3.2 in /usr/local/lib/python3.7/dist-packages (from tensorflow<2.8,>=2.7.0->tensorflow_text) (3.3.0)\n",
            "Requirement already satisfied: tensorflow-estimator<2.8,~=2.7.0rc0 in /usr/local/lib/python3.7/dist-packages (from tensorflow<2.8,>=2.7.0->tensorflow_text) (2.7.0)\n",
            "Requirement already satisfied: cached-property in /usr/local/lib/python3.7/dist-packages (from h5py>=2.9.0->tensorflow<2.8,>=2.7.0->tensorflow_text) (1.5.2)\n",
            "Requirement already satisfied: tensorboard-plugin-wit>=1.6.0 in /usr/local/lib/python3.7/dist-packages (from tensorboard~=2.6->tensorflow<2.8,>=2.7.0->tensorflow_text) (1.8.0)\n",
            "Requirement already satisfied: requests<3,>=2.21.0 in /usr/local/lib/python3.7/dist-packages (from tensorboard~=2.6->tensorflow<2.8,>=2.7.0->tensorflow_text) (2.23.0)\n",
            "Requirement already satisfied: markdown>=2.6.8 in /usr/local/lib/python3.7/dist-packages (from tensorboard~=2.6->tensorflow<2.8,>=2.7.0->tensorflow_text) (3.3.6)\n",
            "Requirement already satisfied: google-auth<3,>=1.6.3 in /usr/local/lib/python3.7/dist-packages (from tensorboard~=2.6->tensorflow<2.8,>=2.7.0->tensorflow_text) (1.35.0)\n",
            "Requirement already satisfied: tensorboard-data-server<0.7.0,>=0.6.0 in /usr/local/lib/python3.7/dist-packages (from tensorboard~=2.6->tensorflow<2.8,>=2.7.0->tensorflow_text) (0.6.1)\n",
            "Requirement already satisfied: setuptools>=41.0.0 in /usr/local/lib/python3.7/dist-packages (from tensorboard~=2.6->tensorflow<2.8,>=2.7.0->tensorflow_text) (57.4.0)\n",
            "Requirement already satisfied: google-auth-oauthlib<0.5,>=0.4.1 in /usr/local/lib/python3.7/dist-packages (from tensorboard~=2.6->tensorflow<2.8,>=2.7.0->tensorflow_text) (0.4.6)\n",
            "Requirement already satisfied: werkzeug>=0.11.15 in /usr/local/lib/python3.7/dist-packages (from tensorboard~=2.6->tensorflow<2.8,>=2.7.0->tensorflow_text) (1.0.1)\n",
            "Requirement already satisfied: cachetools<5.0,>=2.0.0 in /usr/local/lib/python3.7/dist-packages (from google-auth<3,>=1.6.3->tensorboard~=2.6->tensorflow<2.8,>=2.7.0->tensorflow_text) (4.2.4)\n",
            "Requirement already satisfied: pyasn1-modules>=0.2.1 in /usr/local/lib/python3.7/dist-packages (from google-auth<3,>=1.6.3->tensorboard~=2.6->tensorflow<2.8,>=2.7.0->tensorflow_text) (0.2.8)\n",
            "Requirement already satisfied: rsa<5,>=3.1.4 in /usr/local/lib/python3.7/dist-packages (from google-auth<3,>=1.6.3->tensorboard~=2.6->tensorflow<2.8,>=2.7.0->tensorflow_text) (4.8)\n",
            "Requirement already satisfied: requests-oauthlib>=0.7.0 in /usr/local/lib/python3.7/dist-packages (from google-auth-oauthlib<0.5,>=0.4.1->tensorboard~=2.6->tensorflow<2.8,>=2.7.0->tensorflow_text) (1.3.0)\n",
            "Requirement already satisfied: importlib-metadata>=4.4 in /usr/local/lib/python3.7/dist-packages (from markdown>=2.6.8->tensorboard~=2.6->tensorflow<2.8,>=2.7.0->tensorflow_text) (4.8.2)\n",
            "Requirement already satisfied: zipp>=0.5 in /usr/local/lib/python3.7/dist-packages (from importlib-metadata>=4.4->markdown>=2.6.8->tensorboard~=2.6->tensorflow<2.8,>=2.7.0->tensorflow_text) (3.6.0)\n",
            "Requirement already satisfied: pyasn1<0.5.0,>=0.4.6 in /usr/local/lib/python3.7/dist-packages (from pyasn1-modules>=0.2.1->google-auth<3,>=1.6.3->tensorboard~=2.6->tensorflow<2.8,>=2.7.0->tensorflow_text) (0.4.8)\n",
            "Requirement already satisfied: idna<3,>=2.5 in /usr/local/lib/python3.7/dist-packages (from requests<3,>=2.21.0->tensorboard~=2.6->tensorflow<2.8,>=2.7.0->tensorflow_text) (2.10)\n",
            "Requirement already satisfied: certifi>=2017.4.17 in /usr/local/lib/python3.7/dist-packages (from requests<3,>=2.21.0->tensorboard~=2.6->tensorflow<2.8,>=2.7.0->tensorflow_text) (2021.10.8)\n",
            "Requirement already satisfied: chardet<4,>=3.0.2 in /usr/local/lib/python3.7/dist-packages (from requests<3,>=2.21.0->tensorboard~=2.6->tensorflow<2.8,>=2.7.0->tensorflow_text) (3.0.4)\n",
            "Requirement already satisfied: urllib3!=1.25.0,!=1.25.1,<1.26,>=1.21.1 in /usr/local/lib/python3.7/dist-packages (from requests<3,>=2.21.0->tensorboard~=2.6->tensorflow<2.8,>=2.7.0->tensorflow_text) (1.24.3)\n",
            "Requirement already satisfied: oauthlib>=3.0.0 in /usr/local/lib/python3.7/dist-packages (from requests-oauthlib>=0.7.0->google-auth-oauthlib<0.5,>=0.4.1->tensorboard~=2.6->tensorflow<2.8,>=2.7.0->tensorflow_text) (3.1.1)\n",
            "Installing collected packages: tensorflow-text\n",
            "Successfully installed tensorflow-text-2.7.3\n"
          ]
        }
      ]
    },
    {
      "cell_type": "code",
      "source": [
        "import pandas as pd\n",
        "import tensorflow as tf\n",
        "import tensorflow_hub as hub\n",
        "import tensorflow_text as text"
      ],
      "metadata": {
        "id": "1SNr_l-VeMj0"
      },
      "execution_count": 4,
      "outputs": []
    },
    {
      "cell_type": "code",
      "source": [
        "df = pd.read_csv(\"/content/drive/MyDrive/Sarcasm_Data.csv\")"
      ],
      "metadata": {
        "id": "bXospeB3gl4V"
      },
      "execution_count": 5,
      "outputs": []
    },
    {
      "cell_type": "code",
      "source": [
        "df.shape"
      ],
      "metadata": {
        "colab": {
          "base_uri": "https://localhost:8080/"
        },
        "id": "SITJj0_cgo2L",
        "outputId": "6ef962d7-edd8-4cf6-bc7d-45bf5af34435"
      },
      "execution_count": 6,
      "outputs": [
        {
          "output_type": "execute_result",
          "data": {
            "text/plain": [
              "(12506, 2)"
            ]
          },
          "metadata": {},
          "execution_count": 6
        }
      ]
    },
    {
      "cell_type": "code",
      "source": [
        "df.sample(5)"
      ],
      "metadata": {
        "colab": {
          "base_uri": "https://localhost:8080/",
          "height": 204
        },
        "id": "Q4CAPDV1gvgB",
        "outputId": "66cf75b0-db17-4d22-8fcd-c1afd8e7e734"
      },
      "execution_count": 7,
      "outputs": [
        {
          "output_type": "execute_result",
          "data": {
            "text/html": [
              "\n",
              "  <div id=\"df-74de6503-3ec8-4261-894b-e13cedb4a6d6\">\n",
              "    <div class=\"colab-df-container\">\n",
              "      <div>\n",
              "<style scoped>\n",
              "    .dataframe tbody tr th:only-of-type {\n",
              "        vertical-align: middle;\n",
              "    }\n",
              "\n",
              "    .dataframe tbody tr th {\n",
              "        vertical-align: top;\n",
              "    }\n",
              "\n",
              "    .dataframe thead th {\n",
              "        text-align: right;\n",
              "    }\n",
              "</style>\n",
              "<table border=\"1\" class=\"dataframe\">\n",
              "  <thead>\n",
              "    <tr style=\"text-align: right;\">\n",
              "      <th></th>\n",
              "      <th>headlines</th>\n",
              "      <th>target</th>\n",
              "    </tr>\n",
              "  </thead>\n",
              "  <tbody>\n",
              "    <tr>\n",
              "      <th>7340</th>\n",
              "      <td>WATCH: Nancy Grace Fights With Weatherman</td>\n",
              "      <td>Non Sarcastic</td>\n",
              "    </tr>\n",
              "    <tr>\n",
              "      <th>3732</th>\n",
              "      <td>President Donald Trump’s White House Speech Co...</td>\n",
              "      <td>Non Sarcastic</td>\n",
              "    </tr>\n",
              "    <tr>\n",
              "      <th>1496</th>\n",
              "      <td>Shrimp Boat Captain Worn Out From Long Day Of ...</td>\n",
              "      <td>Sarcastic</td>\n",
              "    </tr>\n",
              "    <tr>\n",
              "      <th>12272</th>\n",
              "      <td>FBI Launches Nationwide Manhunt For New Office...</td>\n",
              "      <td>Sarcastic</td>\n",
              "    </tr>\n",
              "    <tr>\n",
              "      <th>11722</th>\n",
              "      <td>Historical Archives: Hy-Genic Apportionment Of...</td>\n",
              "      <td>Sarcastic</td>\n",
              "    </tr>\n",
              "  </tbody>\n",
              "</table>\n",
              "</div>\n",
              "      <button class=\"colab-df-convert\" onclick=\"convertToInteractive('df-74de6503-3ec8-4261-894b-e13cedb4a6d6')\"\n",
              "              title=\"Convert this dataframe to an interactive table.\"\n",
              "              style=\"display:none;\">\n",
              "        \n",
              "  <svg xmlns=\"http://www.w3.org/2000/svg\" height=\"24px\"viewBox=\"0 0 24 24\"\n",
              "       width=\"24px\">\n",
              "    <path d=\"M0 0h24v24H0V0z\" fill=\"none\"/>\n",
              "    <path d=\"M18.56 5.44l.94 2.06.94-2.06 2.06-.94-2.06-.94-.94-2.06-.94 2.06-2.06.94zm-11 1L8.5 8.5l.94-2.06 2.06-.94-2.06-.94L8.5 2.5l-.94 2.06-2.06.94zm10 10l.94 2.06.94-2.06 2.06-.94-2.06-.94-.94-2.06-.94 2.06-2.06.94z\"/><path d=\"M17.41 7.96l-1.37-1.37c-.4-.4-.92-.59-1.43-.59-.52 0-1.04.2-1.43.59L10.3 9.45l-7.72 7.72c-.78.78-.78 2.05 0 2.83L4 21.41c.39.39.9.59 1.41.59.51 0 1.02-.2 1.41-.59l7.78-7.78 2.81-2.81c.8-.78.8-2.07 0-2.86zM5.41 20L4 18.59l7.72-7.72 1.47 1.35L5.41 20z\"/>\n",
              "  </svg>\n",
              "      </button>\n",
              "      \n",
              "  <style>\n",
              "    .colab-df-container {\n",
              "      display:flex;\n",
              "      flex-wrap:wrap;\n",
              "      gap: 12px;\n",
              "    }\n",
              "\n",
              "    .colab-df-convert {\n",
              "      background-color: #E8F0FE;\n",
              "      border: none;\n",
              "      border-radius: 50%;\n",
              "      cursor: pointer;\n",
              "      display: none;\n",
              "      fill: #1967D2;\n",
              "      height: 32px;\n",
              "      padding: 0 0 0 0;\n",
              "      width: 32px;\n",
              "    }\n",
              "\n",
              "    .colab-df-convert:hover {\n",
              "      background-color: #E2EBFA;\n",
              "      box-shadow: 0px 1px 2px rgba(60, 64, 67, 0.3), 0px 1px 3px 1px rgba(60, 64, 67, 0.15);\n",
              "      fill: #174EA6;\n",
              "    }\n",
              "\n",
              "    [theme=dark] .colab-df-convert {\n",
              "      background-color: #3B4455;\n",
              "      fill: #D2E3FC;\n",
              "    }\n",
              "\n",
              "    [theme=dark] .colab-df-convert:hover {\n",
              "      background-color: #434B5C;\n",
              "      box-shadow: 0px 1px 3px 1px rgba(0, 0, 0, 0.15);\n",
              "      filter: drop-shadow(0px 1px 2px rgba(0, 0, 0, 0.3));\n",
              "      fill: #FFFFFF;\n",
              "    }\n",
              "  </style>\n",
              "\n",
              "      <script>\n",
              "        const buttonEl =\n",
              "          document.querySelector('#df-74de6503-3ec8-4261-894b-e13cedb4a6d6 button.colab-df-convert');\n",
              "        buttonEl.style.display =\n",
              "          google.colab.kernel.accessAllowed ? 'block' : 'none';\n",
              "\n",
              "        async function convertToInteractive(key) {\n",
              "          const element = document.querySelector('#df-74de6503-3ec8-4261-894b-e13cedb4a6d6');\n",
              "          const dataTable =\n",
              "            await google.colab.kernel.invokeFunction('convertToInteractive',\n",
              "                                                     [key], {});\n",
              "          if (!dataTable) return;\n",
              "\n",
              "          const docLinkHtml = 'Like what you see? Visit the ' +\n",
              "            '<a target=\"_blank\" href=https://colab.research.google.com/notebooks/data_table.ipynb>data table notebook</a>'\n",
              "            + ' to learn more about interactive tables.';\n",
              "          element.innerHTML = '';\n",
              "          dataTable['output_type'] = 'display_data';\n",
              "          await google.colab.output.renderOutput(dataTable, element);\n",
              "          const docLink = document.createElement('div');\n",
              "          docLink.innerHTML = docLinkHtml;\n",
              "          element.appendChild(docLink);\n",
              "        }\n",
              "      </script>\n",
              "    </div>\n",
              "  </div>\n",
              "  "
            ],
            "text/plain": [
              "                                               headlines         target\n",
              "7340           WATCH: Nancy Grace Fights With Weatherman  Non Sarcastic\n",
              "3732   President Donald Trump’s White House Speech Co...  Non Sarcastic\n",
              "1496   Shrimp Boat Captain Worn Out From Long Day Of ...      Sarcastic\n",
              "12272  FBI Launches Nationwide Manhunt For New Office...      Sarcastic\n",
              "11722  Historical Archives: Hy-Genic Apportionment Of...      Sarcastic"
            ]
          },
          "metadata": {},
          "execution_count": 7
        }
      ]
    },
    {
      "cell_type": "code",
      "source": [
        "df.dtypes"
      ],
      "metadata": {
        "colab": {
          "base_uri": "https://localhost:8080/"
        },
        "id": "LUNklzHbgytH",
        "outputId": "4a42463f-4f9c-4577-a755-10c385f26369"
      },
      "execution_count": 6,
      "outputs": [
        {
          "output_type": "execute_result",
          "data": {
            "text/plain": [
              "headlines    object\n",
              "target       object\n",
              "dtype: object"
            ]
          },
          "metadata": {},
          "execution_count": 6
        }
      ]
    },
    {
      "cell_type": "code",
      "source": [
        "df.headlines[0]  "
      ],
      "metadata": {
        "id": "RVdY2N_3g9jr",
        "colab": {
          "base_uri": "https://localhost:8080/",
          "height": 37
        },
        "outputId": "e1163537-bf3f-4079-baab-6f172408f0ea"
      },
      "execution_count": 7,
      "outputs": [
        {
          "output_type": "execute_result",
          "data": {
            "application/vnd.google.colaboratory.intrinsic+json": {
              "type": "string"
            },
            "text/plain": [
              "'CNN Triumphs (At Least in Most Demographic Categories)'"
            ]
          },
          "metadata": {},
          "execution_count": 7
        }
      ]
    },
    {
      "cell_type": "code",
      "source": [
        "#Checking value count\n",
        "df.groupby('target').describe()"
      ],
      "metadata": {
        "colab": {
          "base_uri": "https://localhost:8080/",
          "height": 173
        },
        "id": "Phpw4coInbuy",
        "outputId": "67014d29-4f9a-490e-b953-288f38899fd4"
      },
      "execution_count": 8,
      "outputs": [
        {
          "output_type": "execute_result",
          "data": {
            "text/html": [
              "\n",
              "  <div id=\"df-945c9cd6-2b83-472a-915e-304c37d54e29\">\n",
              "    <div class=\"colab-df-container\">\n",
              "      <div>\n",
              "<style scoped>\n",
              "    .dataframe tbody tr th:only-of-type {\n",
              "        vertical-align: middle;\n",
              "    }\n",
              "\n",
              "    .dataframe tbody tr th {\n",
              "        vertical-align: top;\n",
              "    }\n",
              "\n",
              "    .dataframe thead tr th {\n",
              "        text-align: left;\n",
              "    }\n",
              "\n",
              "    .dataframe thead tr:last-of-type th {\n",
              "        text-align: right;\n",
              "    }\n",
              "</style>\n",
              "<table border=\"1\" class=\"dataframe\">\n",
              "  <thead>\n",
              "    <tr>\n",
              "      <th></th>\n",
              "      <th colspan=\"4\" halign=\"left\">headlines</th>\n",
              "    </tr>\n",
              "    <tr>\n",
              "      <th></th>\n",
              "      <th>count</th>\n",
              "      <th>unique</th>\n",
              "      <th>top</th>\n",
              "      <th>freq</th>\n",
              "    </tr>\n",
              "    <tr>\n",
              "      <th>target</th>\n",
              "      <th></th>\n",
              "      <th></th>\n",
              "      <th></th>\n",
              "      <th></th>\n",
              "    </tr>\n",
              "  </thead>\n",
              "  <tbody>\n",
              "    <tr>\n",
              "      <th>Non Sarcastic</th>\n",
              "      <td>6531</td>\n",
              "      <td>6531</td>\n",
              "      <td>The Steep Distortion Curve of Republican Populism</td>\n",
              "      <td>1</td>\n",
              "    </tr>\n",
              "    <tr>\n",
              "      <th>Sarcastic</th>\n",
              "      <td>5975</td>\n",
              "      <td>5975</td>\n",
              "      <td>Local Man Gets Cocky With Ladder</td>\n",
              "      <td>1</td>\n",
              "    </tr>\n",
              "  </tbody>\n",
              "</table>\n",
              "</div>\n",
              "      <button class=\"colab-df-convert\" onclick=\"convertToInteractive('df-945c9cd6-2b83-472a-915e-304c37d54e29')\"\n",
              "              title=\"Convert this dataframe to an interactive table.\"\n",
              "              style=\"display:none;\">\n",
              "        \n",
              "  <svg xmlns=\"http://www.w3.org/2000/svg\" height=\"24px\"viewBox=\"0 0 24 24\"\n",
              "       width=\"24px\">\n",
              "    <path d=\"M0 0h24v24H0V0z\" fill=\"none\"/>\n",
              "    <path d=\"M18.56 5.44l.94 2.06.94-2.06 2.06-.94-2.06-.94-.94-2.06-.94 2.06-2.06.94zm-11 1L8.5 8.5l.94-2.06 2.06-.94-2.06-.94L8.5 2.5l-.94 2.06-2.06.94zm10 10l.94 2.06.94-2.06 2.06-.94-2.06-.94-.94-2.06-.94 2.06-2.06.94z\"/><path d=\"M17.41 7.96l-1.37-1.37c-.4-.4-.92-.59-1.43-.59-.52 0-1.04.2-1.43.59L10.3 9.45l-7.72 7.72c-.78.78-.78 2.05 0 2.83L4 21.41c.39.39.9.59 1.41.59.51 0 1.02-.2 1.41-.59l7.78-7.78 2.81-2.81c.8-.78.8-2.07 0-2.86zM5.41 20L4 18.59l7.72-7.72 1.47 1.35L5.41 20z\"/>\n",
              "  </svg>\n",
              "      </button>\n",
              "      \n",
              "  <style>\n",
              "    .colab-df-container {\n",
              "      display:flex;\n",
              "      flex-wrap:wrap;\n",
              "      gap: 12px;\n",
              "    }\n",
              "\n",
              "    .colab-df-convert {\n",
              "      background-color: #E8F0FE;\n",
              "      border: none;\n",
              "      border-radius: 50%;\n",
              "      cursor: pointer;\n",
              "      display: none;\n",
              "      fill: #1967D2;\n",
              "      height: 32px;\n",
              "      padding: 0 0 0 0;\n",
              "      width: 32px;\n",
              "    }\n",
              "\n",
              "    .colab-df-convert:hover {\n",
              "      background-color: #E2EBFA;\n",
              "      box-shadow: 0px 1px 2px rgba(60, 64, 67, 0.3), 0px 1px 3px 1px rgba(60, 64, 67, 0.15);\n",
              "      fill: #174EA6;\n",
              "    }\n",
              "\n",
              "    [theme=dark] .colab-df-convert {\n",
              "      background-color: #3B4455;\n",
              "      fill: #D2E3FC;\n",
              "    }\n",
              "\n",
              "    [theme=dark] .colab-df-convert:hover {\n",
              "      background-color: #434B5C;\n",
              "      box-shadow: 0px 1px 3px 1px rgba(0, 0, 0, 0.15);\n",
              "      filter: drop-shadow(0px 1px 2px rgba(0, 0, 0, 0.3));\n",
              "      fill: #FFFFFF;\n",
              "    }\n",
              "  </style>\n",
              "\n",
              "      <script>\n",
              "        const buttonEl =\n",
              "          document.querySelector('#df-945c9cd6-2b83-472a-915e-304c37d54e29 button.colab-df-convert');\n",
              "        buttonEl.style.display =\n",
              "          google.colab.kernel.accessAllowed ? 'block' : 'none';\n",
              "\n",
              "        async function convertToInteractive(key) {\n",
              "          const element = document.querySelector('#df-945c9cd6-2b83-472a-915e-304c37d54e29');\n",
              "          const dataTable =\n",
              "            await google.colab.kernel.invokeFunction('convertToInteractive',\n",
              "                                                     [key], {});\n",
              "          if (!dataTable) return;\n",
              "\n",
              "          const docLinkHtml = 'Like what you see? Visit the ' +\n",
              "            '<a target=\"_blank\" href=https://colab.research.google.com/notebooks/data_table.ipynb>data table notebook</a>'\n",
              "            + ' to learn more about interactive tables.';\n",
              "          element.innerHTML = '';\n",
              "          dataTable['output_type'] = 'display_data';\n",
              "          await google.colab.output.renderOutput(dataTable, element);\n",
              "          const docLink = document.createElement('div');\n",
              "          docLink.innerHTML = docLinkHtml;\n",
              "          element.appendChild(docLink);\n",
              "        }\n",
              "      </script>\n",
              "    </div>\n",
              "  </div>\n",
              "  "
            ],
            "text/plain": [
              "              headlines  ...     \n",
              "                  count  ... freq\n",
              "target                   ...     \n",
              "Non Sarcastic      6531  ...    1\n",
              "Sarcastic          5975  ...    1\n",
              "\n",
              "[2 rows x 4 columns]"
            ]
          },
          "metadata": {},
          "execution_count": 8
        }
      ]
    },
    {
      "cell_type": "code",
      "source": [
        "print(6531/12506)"
      ],
      "metadata": {
        "colab": {
          "base_uri": "https://localhost:8080/"
        },
        "id": "lxcQrSykUISg",
        "outputId": "a0cfef19-1107-446e-b704-8b286370dd21"
      },
      "execution_count": 13,
      "outputs": [
        {
          "output_type": "stream",
          "name": "stdout",
          "text": [
            "0.5222293299216376\n"
          ]
        }
      ]
    },
    {
      "cell_type": "markdown",
      "source": [
        "**Since the data is almost evenly split (52-48). We do not have to deal with imbalanced dataset**\n",
        "\n",
        "Converting the categorical classification to numerical one."
      ],
      "metadata": {
        "id": "rY4UtgTxWFeH"
      }
    },
    {
      "cell_type": "code",
      "source": [
        "df['target'] = df['target'].apply(lambda x: 1 if x == 'Sarcastic' else 0)\n",
        "df.sample(5)"
      ],
      "metadata": {
        "colab": {
          "base_uri": "https://localhost:8080/",
          "height": 204
        },
        "id": "xvukbuSjWYpW",
        "outputId": "70e02a92-2d0d-4fdd-d2fe-06d1422e034f"
      },
      "execution_count": 8,
      "outputs": [
        {
          "output_type": "execute_result",
          "data": {
            "text/html": [
              "\n",
              "  <div id=\"df-d2912153-f2cf-4437-a5a2-4f7508842afd\">\n",
              "    <div class=\"colab-df-container\">\n",
              "      <div>\n",
              "<style scoped>\n",
              "    .dataframe tbody tr th:only-of-type {\n",
              "        vertical-align: middle;\n",
              "    }\n",
              "\n",
              "    .dataframe tbody tr th {\n",
              "        vertical-align: top;\n",
              "    }\n",
              "\n",
              "    .dataframe thead th {\n",
              "        text-align: right;\n",
              "    }\n",
              "</style>\n",
              "<table border=\"1\" class=\"dataframe\">\n",
              "  <thead>\n",
              "    <tr style=\"text-align: right;\">\n",
              "      <th></th>\n",
              "      <th>headlines</th>\n",
              "      <th>target</th>\n",
              "    </tr>\n",
              "  </thead>\n",
              "  <tbody>\n",
              "    <tr>\n",
              "      <th>10222</th>\n",
              "      <td>Haiti gang leader threatens to kill kidnapped ...</td>\n",
              "      <td>0</td>\n",
              "    </tr>\n",
              "    <tr>\n",
              "      <th>9439</th>\n",
              "      <td>6 Ideas That Could Lead to More Bipartisan Pol...</td>\n",
              "      <td>0</td>\n",
              "    </tr>\n",
              "    <tr>\n",
              "      <th>2459</th>\n",
              "      <td>Anderson Cooper Throws Another Box Of Letters ...</td>\n",
              "      <td>1</td>\n",
              "    </tr>\n",
              "    <tr>\n",
              "      <th>6806</th>\n",
              "      <td>Mic Snatched From Kamala</td>\n",
              "      <td>0</td>\n",
              "    </tr>\n",
              "    <tr>\n",
              "      <th>2982</th>\n",
              "      <td>George Conway Puts Trump's Senate Enablers On ...</td>\n",
              "      <td>0</td>\n",
              "    </tr>\n",
              "  </tbody>\n",
              "</table>\n",
              "</div>\n",
              "      <button class=\"colab-df-convert\" onclick=\"convertToInteractive('df-d2912153-f2cf-4437-a5a2-4f7508842afd')\"\n",
              "              title=\"Convert this dataframe to an interactive table.\"\n",
              "              style=\"display:none;\">\n",
              "        \n",
              "  <svg xmlns=\"http://www.w3.org/2000/svg\" height=\"24px\"viewBox=\"0 0 24 24\"\n",
              "       width=\"24px\">\n",
              "    <path d=\"M0 0h24v24H0V0z\" fill=\"none\"/>\n",
              "    <path d=\"M18.56 5.44l.94 2.06.94-2.06 2.06-.94-2.06-.94-.94-2.06-.94 2.06-2.06.94zm-11 1L8.5 8.5l.94-2.06 2.06-.94-2.06-.94L8.5 2.5l-.94 2.06-2.06.94zm10 10l.94 2.06.94-2.06 2.06-.94-2.06-.94-.94-2.06-.94 2.06-2.06.94z\"/><path d=\"M17.41 7.96l-1.37-1.37c-.4-.4-.92-.59-1.43-.59-.52 0-1.04.2-1.43.59L10.3 9.45l-7.72 7.72c-.78.78-.78 2.05 0 2.83L4 21.41c.39.39.9.59 1.41.59.51 0 1.02-.2 1.41-.59l7.78-7.78 2.81-2.81c.8-.78.8-2.07 0-2.86zM5.41 20L4 18.59l7.72-7.72 1.47 1.35L5.41 20z\"/>\n",
              "  </svg>\n",
              "      </button>\n",
              "      \n",
              "  <style>\n",
              "    .colab-df-container {\n",
              "      display:flex;\n",
              "      flex-wrap:wrap;\n",
              "      gap: 12px;\n",
              "    }\n",
              "\n",
              "    .colab-df-convert {\n",
              "      background-color: #E8F0FE;\n",
              "      border: none;\n",
              "      border-radius: 50%;\n",
              "      cursor: pointer;\n",
              "      display: none;\n",
              "      fill: #1967D2;\n",
              "      height: 32px;\n",
              "      padding: 0 0 0 0;\n",
              "      width: 32px;\n",
              "    }\n",
              "\n",
              "    .colab-df-convert:hover {\n",
              "      background-color: #E2EBFA;\n",
              "      box-shadow: 0px 1px 2px rgba(60, 64, 67, 0.3), 0px 1px 3px 1px rgba(60, 64, 67, 0.15);\n",
              "      fill: #174EA6;\n",
              "    }\n",
              "\n",
              "    [theme=dark] .colab-df-convert {\n",
              "      background-color: #3B4455;\n",
              "      fill: #D2E3FC;\n",
              "    }\n",
              "\n",
              "    [theme=dark] .colab-df-convert:hover {\n",
              "      background-color: #434B5C;\n",
              "      box-shadow: 0px 1px 3px 1px rgba(0, 0, 0, 0.15);\n",
              "      filter: drop-shadow(0px 1px 2px rgba(0, 0, 0, 0.3));\n",
              "      fill: #FFFFFF;\n",
              "    }\n",
              "  </style>\n",
              "\n",
              "      <script>\n",
              "        const buttonEl =\n",
              "          document.querySelector('#df-d2912153-f2cf-4437-a5a2-4f7508842afd button.colab-df-convert');\n",
              "        buttonEl.style.display =\n",
              "          google.colab.kernel.accessAllowed ? 'block' : 'none';\n",
              "\n",
              "        async function convertToInteractive(key) {\n",
              "          const element = document.querySelector('#df-d2912153-f2cf-4437-a5a2-4f7508842afd');\n",
              "          const dataTable =\n",
              "            await google.colab.kernel.invokeFunction('convertToInteractive',\n",
              "                                                     [key], {});\n",
              "          if (!dataTable) return;\n",
              "\n",
              "          const docLinkHtml = 'Like what you see? Visit the ' +\n",
              "            '<a target=\"_blank\" href=https://colab.research.google.com/notebooks/data_table.ipynb>data table notebook</a>'\n",
              "            + ' to learn more about interactive tables.';\n",
              "          element.innerHTML = '';\n",
              "          dataTable['output_type'] = 'display_data';\n",
              "          await google.colab.output.renderOutput(dataTable, element);\n",
              "          const docLink = document.createElement('div');\n",
              "          docLink.innerHTML = docLinkHtml;\n",
              "          element.appendChild(docLink);\n",
              "        }\n",
              "      </script>\n",
              "    </div>\n",
              "  </div>\n",
              "  "
            ],
            "text/plain": [
              "                                               headlines  target\n",
              "10222  Haiti gang leader threatens to kill kidnapped ...       0\n",
              "9439   6 Ideas That Could Lead to More Bipartisan Pol...       0\n",
              "2459   Anderson Cooper Throws Another Box Of Letters ...       1\n",
              "6806                            Mic Snatched From Kamala       0\n",
              "2982   George Conway Puts Trump's Senate Enablers On ...       0"
            ]
          },
          "metadata": {},
          "execution_count": 8
        }
      ]
    },
    {
      "cell_type": "code",
      "source": [
        "from sklearn.model_selection import train_test_split\n",
        "\n",
        "X_train, X_test, y_train, y_test = train_test_split(df['headlines'], df['target'],  stratify=df['target'])"
      ],
      "metadata": {
        "id": "ZP1fP1jabE6d"
      },
      "execution_count": 9,
      "outputs": []
    },
    {
      "cell_type": "code",
      "source": [
        "X_train.head(4)"
      ],
      "metadata": {
        "colab": {
          "base_uri": "https://localhost:8080/"
        },
        "id": "bUrXVdglcZhw",
        "outputId": "1aefc6cd-d130-4f50-9852-1e5ccb44bc7a"
      },
      "execution_count": 10,
      "outputs": [
        {
          "output_type": "execute_result",
          "data": {
            "text/plain": [
              "8681    CNN Debate Moderators Used Conservative Framin...\n",
              "974     Americans Confused By System Of Government In ...\n",
              "8523    Chris Cuomo Makes Heartfelt Plea To End The St...\n",
              "528     Jonathan Safran Foer Guesses It’s Time To Give...\n",
              "Name: headlines, dtype: object"
            ]
          },
          "metadata": {},
          "execution_count": 10
        }
      ]
    },
    {
      "cell_type": "code",
      "source": [
        "bert_preprocess = hub.KerasLayer(\"https://tfhub.dev/tensorflow/bert_en_uncased_preprocess/3\")\n",
        "bert_encoder = hub.KerasLayer(\"https://tfhub.dev/tensorflow/bert_en_uncased_L-12_H-768_A-12/4\")"
      ],
      "metadata": {
        "id": "KQ2INtKKccn2"
      },
      "execution_count": 11,
      "outputs": []
    },
    {
      "cell_type": "code",
      "source": [
        "def get_sentence_embedding(sentences):\n",
        "  preprocessed_text = bert_preprocess(sentences)\n",
        "  return bert_encoder(preprocessed_text)['pooled_output']"
      ],
      "metadata": {
        "id": "kpXr-BL9cqLY"
      },
      "execution_count": 12,
      "outputs": []
    },
    {
      "cell_type": "code",
      "source": [
        "# Checking the function\n",
        "\n",
        "get_sentence_embedding(['The Steep Distortion Curve of Republican Populism'])"
      ],
      "metadata": {
        "colab": {
          "base_uri": "https://localhost:8080/"
        },
        "id": "vPTDyKlLdRV9",
        "outputId": "a13a4c15-1e6f-4558-889c-c98071dd9819"
      },
      "execution_count": 13,
      "outputs": [
        {
          "output_type": "execute_result",
          "data": {
            "text/plain": [
              "<tf.Tensor: shape=(1, 768), dtype=float32, numpy=\n",
              "array([[-0.8698286 , -0.41606644, -0.8271835 ,  0.7945703 ,  0.46936825,\n",
              "        -0.1412743 ,  0.7746808 ,  0.26347646, -0.7824964 , -0.99993634,\n",
              "        -0.6477764 ,  0.9575048 ,  0.98209786,  0.52242035,  0.8941726 ,\n",
              "        -0.75080633, -0.58889407, -0.5273328 ,  0.22972739, -0.5284381 ,\n",
              "         0.73756486,  0.99992484, -0.32898495,  0.34231368,  0.38269347,\n",
              "         0.98451036, -0.79683125,  0.8908815 ,  0.94265103,  0.7644203 ,\n",
              "        -0.64945966,  0.28950593, -0.9889258 , -0.0729803 , -0.8992652 ,\n",
              "        -0.99147314,  0.41241515, -0.5549161 ,  0.16965209,  0.07071544,\n",
              "        -0.8465491 ,  0.22044787,  0.99986655,  0.09474771,  0.57809025,\n",
              "        -0.12308016, -0.9999994 ,  0.21891227, -0.83998793,  0.91365427,\n",
              "         0.8545129 ,  0.91818225,  0.15173788,  0.478646  ,  0.39281487,\n",
              "        -0.53587234, -0.03447785,  0.12179507, -0.23888916, -0.4842722 ,\n",
              "        -0.5343158 ,  0.5266392 , -0.8069091 , -0.85811   ,  0.9137381 ,\n",
              "         0.52456367, -0.2809678 , -0.2456642 ,  0.01140154, -0.08808703,\n",
              "         0.77004373,  0.1510391 , -0.15511492, -0.78164774,  0.6798702 ,\n",
              "         0.14599302, -0.6734274 ,  1.        , -0.7375634 , -0.9825835 ,\n",
              "         0.8380128 ,  0.49710578,  0.46015346, -0.37371743,  0.17401764,\n",
              "        -1.        ,  0.68799496, -0.10408089, -0.988392  ,  0.22490536,\n",
              "         0.6385866 , -0.08379677,  0.35764435,  0.51891935, -0.48556447,\n",
              "        -0.53559434, -0.27936652, -0.646923  , -0.20299722, -0.70204145,\n",
              "         0.11709023, -0.2508817 , -0.18355106, -0.2436378 ,  0.40208805,\n",
              "        -0.54769254, -0.3421715 ,  0.32717144,  0.30061018,  0.6371333 ,\n",
              "         0.29330072, -0.44071174,  0.52733445, -0.94292766,  0.6503889 ,\n",
              "        -0.27214584, -0.9857749 , -0.5801946 , -0.9884263 ,  0.5839179 ,\n",
              "        -0.38392195, -0.25777376,  0.9197548 , -0.30870923,  0.255383  ,\n",
              "        -0.09780718, -0.9114589 , -1.        , -0.77711225, -0.61969507,\n",
              "        -0.15293282, -0.4705336 , -0.9712409 , -0.9559692 ,  0.53583366,\n",
              "         0.9038408 , -0.07616954,  0.99923104, -0.39682958,  0.89860654,\n",
              "        -0.42262265, -0.7083553 ,  0.81761545, -0.44564298,  0.6650143 ,\n",
              "         0.1496062 , -0.49851647,  0.2702795 , -0.4691921 ,  0.46900538,\n",
              "        -0.6886752 , -0.29874474, -0.7593186 , -0.81237936, -0.17966697,\n",
              "         0.9070355 , -0.45024788, -0.8640937 , -0.16337505, -0.37509537,\n",
              "        -0.5754228 ,  0.8155011 ,  0.8047696 ,  0.42635092, -0.3289645 ,\n",
              "         0.3287866 , -0.00709144,  0.50530684, -0.7579418 , -0.29029685,\n",
              "         0.34630927, -0.41436088, -0.8038094 , -0.9858068 , -0.4587163 ,\n",
              "         0.27865002,  0.981276  ,  0.63217944,  0.15555373,  0.79332066,\n",
              "        -0.2186741 ,  0.7709499 , -0.92712826,  0.9777151 , -0.15606247,\n",
              "         0.14974599, -0.47906402,  0.22118667, -0.7549772 ,  0.06463932,\n",
              "         0.81999594, -0.62823963, -0.75619614, -0.16986175, -0.4386167 ,\n",
              "        -0.3612426 , -0.7139757 ,  0.53762543, -0.2545083 , -0.12755476,\n",
              "        -0.01437628,  0.8508594 ,  0.9413231 ,  0.76335764,  0.38090798,\n",
              "         0.7337095 , -0.8367722 , -0.5442018 ,  0.23527768,  0.18559001,\n",
              "         0.11610006,  0.9919058 , -0.4073083 , -0.06790251, -0.86051816,\n",
              "        -0.97941464,  0.02016458, -0.91484845, -0.18464206, -0.69196576,\n",
              "         0.6539871 , -0.03883988,  0.1253428 ,  0.37833822, -0.93321776,\n",
              "        -0.82018816,  0.3571265 , -0.2995727 ,  0.31521714, -0.3214638 ,\n",
              "         0.78881836,  0.94960546, -0.5551607 ,  0.7186627 ,  0.9067719 ,\n",
              "        -0.7984353 , -0.8222472 ,  0.7694837 , -0.4229118 ,  0.7089564 ,\n",
              "        -0.59100133,  0.9788449 ,  0.88409585,  0.74808574, -0.9042921 ,\n",
              "        -0.5050008 , -0.7546915 , -0.546993  , -0.16065031, -0.3203554 ,\n",
              "         0.85668886,  0.47630575,  0.43137532,  0.5752888 , -0.60755503,\n",
              "         0.98581326, -0.6089387 , -0.96307707, -0.61969817, -0.26316866,\n",
              "        -0.9896848 ,  0.8295257 ,  0.3358016 ,  0.21985772, -0.391199  ,\n",
              "        -0.5559774 , -0.9558074 ,  0.85942227,  0.1391962 ,  0.96893597,\n",
              "        -0.46069473, -0.88378596, -0.7916808 , -0.90440875, -0.08784717,\n",
              "        -0.17331159, -0.5100752 , -0.0866452 , -0.92205024,  0.6023557 ,\n",
              "         0.52116877,  0.40493214, -0.66033715,  0.99293727,  0.9999999 ,\n",
              "         0.96806586,  0.84528315,  0.5919907 , -0.99959075, -0.51353085,\n",
              "         0.99996704, -0.9936119 , -1.        , -0.908874  , -0.7199145 ,\n",
              "         0.19356786, -1.        , -0.17828797, -0.10258986, -0.8634502 ,\n",
              "         0.66471714,  0.97359526,  0.97623867, -1.        ,  0.8032626 ,\n",
              "         0.9123199 , -0.5524829 ,  0.93116105, -0.6096484 ,  0.9781326 ,\n",
              "         0.28247935,  0.6549282 , -0.17810151,  0.39494383, -0.8919436 ,\n",
              "        -0.8094865 , -0.6647891 , -0.70847726,  0.9925545 ,  0.28905597,\n",
              "        -0.78610027, -0.78384453,  0.69359136, -0.16974883,  0.03992535,\n",
              "        -0.9327003 , -0.03519917,  0.63626236,  0.8707378 ,  0.05658235,\n",
              "         0.24273406, -0.71655244,  0.21598661,  0.2275611 , -0.11932383,\n",
              "         0.53588516, -0.8872025 , -0.6127734 , -0.682968  ,  0.3280612 ,\n",
              "        -0.43098655, -0.9380072 ,  0.94316554, -0.3594129 ,  0.85025173,\n",
              "         1.        ,  0.54305476, -0.7041898 ,  0.49387425,  0.31945488,\n",
              "        -0.5962092 ,  1.        ,  0.8292426 , -0.9794949 , -0.39837316,\n",
              "         0.51381737, -0.56797194, -0.6088599 ,  0.9980882 , -0.3091568 ,\n",
              "        -0.742234  , -0.3866828 ,  0.9816695 , -0.993322  ,  0.97920805,\n",
              "        -0.79172504, -0.96458673,  0.91553664,  0.92702806, -0.54590946,\n",
              "        -0.5524003 ,  0.24051704, -0.34312606,  0.43482226, -0.8924661 ,\n",
              "         0.7748768 ,  0.5619491 , -0.13716407,  0.86837   , -0.8596721 ,\n",
              "        -0.40838677,  0.4163726 , -0.7009648 , -0.17125797,  0.8484833 ,\n",
              "         0.5557996 , -0.25456378,  0.14758322, -0.4337493 , -0.55999315,\n",
              "        -0.9338547 ,  0.575028  ,  1.        , -0.4807814 ,  0.6700257 ,\n",
              "        -0.33358032,  0.0703766 , -0.10924575,  0.43316796,  0.45642343,\n",
              "        -0.25755972, -0.65648174,  0.6761534 , -0.92428553, -0.9918598 ,\n",
              "         0.59617203,  0.14408438, -0.32865185,  0.9999752 ,  0.5923853 ,\n",
              "         0.23804364,  0.5518143 ,  0.982189  , -0.06188244,  0.22017379,\n",
              "         0.78121704,  0.9736435 , -0.2802796 ,  0.59215146,  0.7076256 ,\n",
              "        -0.86656773, -0.24173601, -0.6609125 , -0.00869326, -0.91333187,\n",
              "         0.04088908, -0.9305314 ,  0.9671668 ,  0.8732451 ,  0.31149784,\n",
              "         0.12298674,  0.80403537,  1.        , -0.8433471 ,  0.5985364 ,\n",
              "        -0.5185056 ,  0.79737526, -0.9989623 , -0.57066154, -0.3442597 ,\n",
              "        -0.20101663, -0.8464273 , -0.30333978,  0.35517722, -0.94334185,\n",
              "         0.74704427,  0.72038114, -0.945668  , -0.99146783, -0.71773803,\n",
              "         0.82775253,  0.06230564, -0.97732204, -0.81598413, -0.57884353,\n",
              "         0.69546   , -0.3987266 , -0.93498945, -0.27882922, -0.33094603,\n",
              "         0.48365986, -0.28873155,  0.5420093 ,  0.70672333,  0.81278884,\n",
              "        -0.58865297, -0.44645292, -0.2205266 , -0.735771  ,  0.82826287,\n",
              "        -0.7194729 , -0.78804487, -0.02379747,  1.        , -0.5769328 ,\n",
              "         0.87224203,  0.64772457,  0.65441644, -0.30767724,  0.26215202,\n",
              "         0.7847394 ,  0.28012848, -0.5717882 , -0.8784421 , -0.6886291 ,\n",
              "        -0.32158455,  0.54817563,  0.46043244,  0.17491868,  0.720731  ,\n",
              "         0.6972016 ,  0.24589628, -0.00297329,  0.02197971,  0.9972251 ,\n",
              "        -0.2749458 , -0.21389684, -0.44498715, -0.18563758, -0.35644203,\n",
              "        -0.26981422,  1.        ,  0.30769682,  0.43826443, -0.99319315,\n",
              "        -0.7516232 , -0.8595021 ,  0.9999985 ,  0.8441001 , -0.6362119 ,\n",
              "         0.76991165,  0.7396711 , -0.17852193,  0.8159631 , -0.24882238,\n",
              "         0.13565373,  0.33121675,  0.19048141,  0.94008285, -0.55556333,\n",
              "        -0.96974856, -0.5732301 ,  0.44765452, -0.92906725,  0.99944127,\n",
              "        -0.53070074, -0.06627459, -0.1360706 , -0.38281062,  0.44320738,\n",
              "         0.08508253, -0.9648496 , -0.07724068,  0.34220588,  0.957195  ,\n",
              "         0.18750313, -0.58358943, -0.92403656,  0.8916136 ,  0.8669604 ,\n",
              "        -0.8683215 , -0.9052346 ,  0.9633299 , -0.9379422 ,  0.7868868 ,\n",
              "         1.        ,  0.37399852,  0.40722987,  0.2695707 , -0.35735327,\n",
              "         0.29727796, -0.37089768,  0.7572116 , -0.89924824, -0.23320813,\n",
              "        -0.07810128,  0.33633962, -0.22747156, -0.64982086,  0.5853437 ,\n",
              "        -0.040592  , -0.5568805 , -0.49248415, -0.09674276,  0.55423605,\n",
              "         0.9174344 , -0.3348026 , -0.20007436,  0.29890928, -0.06749219,\n",
              "        -0.90671265, -0.41997907, -0.21559255, -0.9999768 ,  0.5799079 ,\n",
              "        -1.        ,  0.3773252 ,  0.03242227, -0.2527984 ,  0.8421794 ,\n",
              "         0.57175463,  0.61016846, -0.7040254 , -0.8189272 ,  0.35446343,\n",
              "         0.76305497, -0.31405333, -0.5835199 , -0.619741  ,  0.2691008 ,\n",
              "         0.02358851,  0.06101468, -0.6921468 ,  0.5808012 , -0.08726404,\n",
              "         1.        ,  0.05153658, -0.7681426 , -0.901536  ,  0.19399866,\n",
              "        -0.32574353,  1.        , -0.8099956 , -0.95352167,  0.35845712,\n",
              "        -0.64598733, -0.6664458 ,  0.27602956,  0.09198889, -0.7566677 ,\n",
              "        -0.9215436 ,  0.7967562 ,  0.8957428 , -0.6061876 ,  0.68121755,\n",
              "        -0.27877212, -0.6390871 ,  0.20453902,  0.7717562 ,  0.98424244,\n",
              "         0.4986102 ,  0.83162785, -0.337026  , -0.17964298,  0.9451771 ,\n",
              "         0.352667  ,  0.49639317,  0.21318786,  1.        ,  0.38946992,\n",
              "        -0.9151783 , -0.14860636, -0.9358959 , -0.2798111 , -0.91091317,\n",
              "         0.3174783 ,  0.2386063 ,  0.8977604 , -0.18286267,  0.96799076,\n",
              "        -0.77079564, -0.02689685, -0.82148576, -0.47421122,  0.5270294 ,\n",
              "        -0.92768455, -0.9802258 , -0.9896154 ,  0.6654202 , -0.38589615,\n",
              "        -0.03778365,  0.25904882,  0.2278478 ,  0.3239607 ,  0.45993304,\n",
              "        -1.        ,  0.9332471 ,  0.41534537,  0.7406466 ,  0.9607503 ,\n",
              "         0.6891953 ,  0.6824079 ,  0.3249261 , -0.984752  , -0.9066429 ,\n",
              "        -0.21911073, -0.27474955,  0.78123164,  0.6847869 ,  0.84017825,\n",
              "         0.61840683, -0.4983212 , -0.17298725, -0.71376723, -0.57189876,\n",
              "        -0.9922766 ,  0.44988784, -0.5274051 , -0.91807973,  0.94373864,\n",
              "        -0.324764  , -0.04945461, -0.01978992, -0.82354116,  0.6271131 ,\n",
              "         0.4996352 ,  0.4114761 , -0.08300211,  0.44295037,  0.88656694,\n",
              "         0.90414983,  0.9904863 , -0.80892587,  0.5503422 , -0.7530766 ,\n",
              "         0.42659268,  0.8091295 , -0.8972729 ,  0.24846113,  0.49596158,\n",
              "        -0.56608903,  0.40654045, -0.3739575 , -0.87541544,  0.854249  ,\n",
              "        -0.25240067,  0.56457394, -0.300197  ,  0.00620446, -0.3607436 ,\n",
              "        -0.3710856 , -0.6125437 , -0.691508  ,  0.60654074,  0.5515133 ,\n",
              "         0.88355565,  0.5790528 ,  0.16917402, -0.79870003, -0.31117353,\n",
              "        -0.5318873 , -0.9062674 ,  0.78276384, -0.13318907,  0.17690872,\n",
              "         0.49566627,  0.04621151,  0.8487327 ,  0.0328968 , -0.5315725 ,\n",
              "        -0.3467933 , -0.6952478 ,  0.685935  , -0.7156434 , -0.55876863,\n",
              "        -0.71994245,  0.7123177 ,  0.22616237,  0.99995893, -0.6879969 ,\n",
              "        -0.89547825, -0.41015023, -0.41416374,  0.35030106, -0.57407415,\n",
              "        -1.        ,  0.40077326, -0.561251  ,  0.49642554, -0.8193371 ,\n",
              "         0.6007051 , -0.75902385, -0.9463162 , -0.28136456,  0.5954953 ,\n",
              "         0.799935  , -0.45520765, -0.77587456,  0.5254552 , -0.65351653,\n",
              "         0.96518373,  0.73933834, -0.63979626,  0.18676917,  0.6199391 ,\n",
              "        -0.70814186, -0.6576095 ,  0.7708218 ]], dtype=float32)>"
            ]
          },
          "metadata": {},
          "execution_count": 13
        }
      ]
    },
    {
      "cell_type": "markdown",
      "source": [
        "## Bluiding Model\n",
        "\n",
        "Here a functional model is being build"
      ],
      "metadata": {
        "id": "nwoQO35VdfrR"
      }
    },
    {
      "cell_type": "code",
      "source": [
        "# Bert Layers\n",
        "text_input = tf.keras.layers.Input(shape = (), dtype = tf.string, name = 'text')\n",
        "preprocessed_text = bert_preprocess(text_input)\n",
        "outputs = bert_encoder(preprocessed_text)\n",
        "\n",
        "# Neural Network Layers\n",
        "layer = tf.keras.layers.Dropout(0.1, name = \"dropout\")(outputs['pooled_output'])\n",
        "layer = tf.keras.layers.Dense(1, activation = 'sigmoid', name = 'output')(layer)\n",
        "\n",
        "#Constructing final model using the inputs and outputs\n",
        "model = tf.keras.Model(inputs = [text_input], outputs = [layer])"
      ],
      "metadata": {
        "id": "v-4ebelhkVZ8"
      },
      "execution_count": 14,
      "outputs": []
    },
    {
      "cell_type": "code",
      "source": [
        "model.summary()"
      ],
      "metadata": {
        "colab": {
          "base_uri": "https://localhost:8080/"
        },
        "id": "rtXTUVnllhSU",
        "outputId": "ac70398d-1aee-4855-bc27-560e5fade273"
      },
      "execution_count": 15,
      "outputs": [
        {
          "output_type": "stream",
          "name": "stdout",
          "text": [
            "Model: \"model\"\n",
            "__________________________________________________________________________________________________\n",
            " Layer (type)                   Output Shape         Param #     Connected to                     \n",
            "==================================================================================================\n",
            " text (InputLayer)              [(None,)]            0           []                               \n",
            "                                                                                                  \n",
            " keras_layer (KerasLayer)       {'input_type_ids':   0           ['text[0][0]']                   \n",
            "                                (None, 128),                                                      \n",
            "                                 'input_mask': (Non                                               \n",
            "                                e, 128),                                                          \n",
            "                                 'input_word_ids':                                                \n",
            "                                (None, 128)}                                                      \n",
            "                                                                                                  \n",
            " keras_layer_1 (KerasLayer)     {'pooled_output': (  109482241   ['keras_layer[0][0]',            \n",
            "                                None, 768),                       'keras_layer[0][1]',            \n",
            "                                 'default': (None,                'keras_layer[0][2]']            \n",
            "                                768),                                                             \n",
            "                                 'sequence_output':                                               \n",
            "                                 (None, 128, 768),                                                \n",
            "                                 'encoder_outputs':                                               \n",
            "                                 [(None, 128, 768),                                               \n",
            "                                 (None, 128, 768),                                                \n",
            "                                 (None, 128, 768),                                                \n",
            "                                 (None, 128, 768),                                                \n",
            "                                 (None, 128, 768),                                                \n",
            "                                 (None, 128, 768),                                                \n",
            "                                 (None, 128, 768),                                                \n",
            "                                 (None, 128, 768),                                                \n",
            "                                 (None, 128, 768),                                                \n",
            "                                 (None, 128, 768),                                                \n",
            "                                 (None, 128, 768),                                                \n",
            "                                 (None, 128, 768)]}                                               \n",
            "                                                                                                  \n",
            " dropout (Dropout)              (None, 768)          0           ['keras_layer_1[0][13]']         \n",
            "                                                                                                  \n",
            " output (Dense)                 (None, 1)            769         ['dropout[0][0]']                \n",
            "                                                                                                  \n",
            "==================================================================================================\n",
            "Total params: 109,483,010\n",
            "Trainable params: 769\n",
            "Non-trainable params: 109,482,241\n",
            "__________________________________________________________________________________________________\n"
          ]
        }
      ]
    },
    {
      "cell_type": "code",
      "source": [
        "METRICS = [\n",
        "           tf.keras.metrics.BinaryAccuracy(name = 'accuracy'),\n",
        "           tf.keras.metrics.Precision(name = 'precision'),\n",
        "           tf.keras.metrics.Recall(name = 'recall')\n",
        "]\n",
        "\n",
        "model.compile(optimizer='adam',\n",
        "              loss = 'binary_crossentropy',\n",
        "              metrics=METRICS)"
      ],
      "metadata": {
        "id": "7lG3ciy1llA2"
      },
      "execution_count": 16,
      "outputs": []
    },
    {
      "cell_type": "markdown",
      "source": [
        "## Train the model"
      ],
      "metadata": {
        "id": "R262_zbKmMVh"
      }
    },
    {
      "cell_type": "code",
      "source": [
        "model.fit(X_train, y_train, epochs = 15)"
      ],
      "metadata": {
        "colab": {
          "base_uri": "https://localhost:8080/"
        },
        "id": "O5JsNXPUmRFl",
        "outputId": "dc37736f-4fd8-438d-e5ae-e7a128feaf25"
      },
      "execution_count": 17,
      "outputs": [
        {
          "output_type": "stream",
          "name": "stdout",
          "text": [
            "Epoch 1/15\n",
            "294/294 [==============================] - 195s 623ms/step - loss: 0.6486 - accuracy: 0.6202 - precision: 0.6110 - recall: 0.5646\n",
            "Epoch 2/15\n",
            "294/294 [==============================] - 184s 625ms/step - loss: 0.5512 - accuracy: 0.7479 - precision: 0.7567 - recall: 0.6963\n",
            "Epoch 3/15\n",
            "294/294 [==============================] - 184s 625ms/step - loss: 0.5044 - accuracy: 0.7771 - precision: 0.7855 - recall: 0.7338\n",
            "Epoch 4/15\n",
            "294/294 [==============================] - 183s 624ms/step - loss: 0.4805 - accuracy: 0.7881 - precision: 0.7942 - recall: 0.7512\n",
            "Epoch 5/15\n",
            "294/294 [==============================] - 183s 623ms/step - loss: 0.4536 - accuracy: 0.8074 - precision: 0.8124 - recall: 0.7762\n",
            "Epoch 6/15\n",
            "294/294 [==============================] - 184s 626ms/step - loss: 0.4424 - accuracy: 0.8050 - precision: 0.8052 - recall: 0.7806\n",
            "Epoch 7/15\n",
            "294/294 [==============================] - 184s 626ms/step - loss: 0.4350 - accuracy: 0.8069 - precision: 0.8079 - recall: 0.7817\n",
            "Epoch 8/15\n",
            "294/294 [==============================] - 184s 625ms/step - loss: 0.4260 - accuracy: 0.8173 - precision: 0.8199 - recall: 0.7913\n",
            "Epoch 9/15\n",
            "294/294 [==============================] - 184s 626ms/step - loss: 0.4181 - accuracy: 0.8174 - precision: 0.8154 - recall: 0.7985\n",
            "Epoch 10/15\n",
            "294/294 [==============================] - 184s 625ms/step - loss: 0.4127 - accuracy: 0.8228 - precision: 0.8190 - recall: 0.8076\n",
            "Epoch 11/15\n",
            "294/294 [==============================] - 184s 626ms/step - loss: 0.4103 - accuracy: 0.8182 - precision: 0.8168 - recall: 0.7987\n",
            "Epoch 12/15\n",
            "294/294 [==============================] - 184s 625ms/step - loss: 0.4061 - accuracy: 0.8234 - precision: 0.8211 - recall: 0.8061\n",
            "Epoch 13/15\n",
            "294/294 [==============================] - 184s 627ms/step - loss: 0.4004 - accuracy: 0.8226 - precision: 0.8216 - recall: 0.8029\n",
            "Epoch 14/15\n",
            "294/294 [==============================] - 185s 630ms/step - loss: 0.4007 - accuracy: 0.8271 - precision: 0.8256 - recall: 0.8090\n",
            "Epoch 15/15\n",
            "294/294 [==============================] - 185s 628ms/step - loss: 0.3954 - accuracy: 0.8255 - precision: 0.8251 - recall: 0.8054\n"
          ]
        },
        {
          "output_type": "execute_result",
          "data": {
            "text/plain": [
              "<keras.callbacks.History at 0x7f9cd1588390>"
            ]
          },
          "metadata": {},
          "execution_count": 17
        }
      ]
    },
    {
      "cell_type": "code",
      "source": [
        "model.evaluate(X_test, y_test)"
      ],
      "metadata": {
        "colab": {
          "base_uri": "https://localhost:8080/"
        },
        "id": "QPSe_mwGmW3W",
        "outputId": "d47c0ec2-1076-480e-a7cd-a6f6fd7742fc"
      },
      "execution_count": 18,
      "outputs": [
        {
          "output_type": "stream",
          "name": "stdout",
          "text": [
            "98/98 [==============================] - 63s 626ms/step - loss: 0.3806 - accuracy: 0.8487 - precision: 0.8130 - recall: 0.8876\n"
          ]
        },
        {
          "output_type": "execute_result",
          "data": {
            "text/plain": [
              "[0.3806295096874237,\n",
              " 0.8487368226051331,\n",
              " 0.8129981756210327,\n",
              " 0.8875501751899719]"
            ]
          },
          "metadata": {},
          "execution_count": 18
        }
      ]
    },
    {
      "cell_type": "markdown",
      "source": [
        "## Evaluating the model"
      ],
      "metadata": {
        "id": "mBCZGv_Czk7_"
      }
    },
    {
      "cell_type": "code",
      "source": [
        "#Saving predictions\n",
        "y_predicted = model.predict(X_test)\n",
        "y_predicted = y_predicted.flatten()"
      ],
      "metadata": {
        "id": "7OExFjGjzdqr"
      },
      "execution_count": 19,
      "outputs": []
    },
    {
      "cell_type": "code",
      "source": [
        "y_predicted"
      ],
      "metadata": {
        "colab": {
          "base_uri": "https://localhost:8080/"
        },
        "id": "hQ6aH0yF0Xbd",
        "outputId": "36f02079-2dc4-48fc-85b3-c7846e36d80d"
      },
      "execution_count": 21,
      "outputs": [
        {
          "output_type": "execute_result",
          "data": {
            "text/plain": [
              "array([0.10732303, 0.0502894 , 0.4070853 , ..., 0.7679861 , 0.20111912,\n",
              "       0.24091743], dtype=float32)"
            ]
          },
          "metadata": {},
          "execution_count": 21
        }
      ]
    },
    {
      "cell_type": "code",
      "source": [
        "import numpy as np\n",
        "\n",
        "y_predicted = np.where(y_predicted > 0.5, 1, 0)\n",
        "y_predicted"
      ],
      "metadata": {
        "colab": {
          "base_uri": "https://localhost:8080/"
        },
        "id": "Lf9AQcGFz_jc",
        "outputId": "d2c9e419-5244-4ea7-cb37-5928fd42c419"
      },
      "execution_count": 22,
      "outputs": [
        {
          "output_type": "execute_result",
          "data": {
            "text/plain": [
              "array([0, 0, 0, ..., 1, 0, 0])"
            ]
          },
          "metadata": {},
          "execution_count": 22
        }
      ]
    },
    {
      "cell_type": "code",
      "source": [
        "from sklearn.metrics import confusion_matrix, classification_report\n",
        "\n",
        "cm = confusion_matrix(y_test, y_predicted)\n",
        "cm"
      ],
      "metadata": {
        "colab": {
          "base_uri": "https://localhost:8080/"
        },
        "id": "CHPS_UTN0j93",
        "outputId": "ff2ea6fd-0a72-4583-b65e-1d513dfaa68d"
      },
      "execution_count": 23,
      "outputs": [
        {
          "output_type": "execute_result",
          "data": {
            "text/plain": [
              "array([[1328,  305],\n",
              "       [ 168, 1326]])"
            ]
          },
          "metadata": {},
          "execution_count": 23
        }
      ]
    },
    {
      "cell_type": "code",
      "source": [
        "from matplotlib import pyplot as plt\n",
        "import seaborn as sns\n",
        "\n",
        "sns.heatmap(cm, annot = True, fmt = 'd')\n",
        "plt.xlabel('Predicted')\n",
        "plt.ylabel('True Value')"
      ],
      "metadata": {
        "colab": {
          "base_uri": "https://localhost:8080/",
          "height": 296
        },
        "id": "x86bHnNs07U0",
        "outputId": "e8d000f9-2cbb-4a89-85c5-aae505889059"
      },
      "execution_count": 24,
      "outputs": [
        {
          "output_type": "execute_result",
          "data": {
            "text/plain": [
              "Text(33.0, 0.5, 'True Value')"
            ]
          },
          "metadata": {},
          "execution_count": 24
        },
        {
          "output_type": "display_data",
          "data": {
            "image/png": "[encoded data removed]",
            "text/plain": [
              "<Figure size 432x288 with 2 Axes>"
            ]
          },
          "metadata": {
            "needs_background": "light"
          }
        }
      ]
    },
    {
      "cell_type": "code",
      "source": [
        "print(classification_report(y_test, y_predicted))"
      ],
      "metadata": {
        "colab": {
          "base_uri": "https://localhost:8080/"
        },
        "id": "DREQ9wZj1TGm",
        "outputId": "30109bf8-320f-4ce2-ea9f-b1a375f7ba3f"
      },
      "execution_count": 25,
      "outputs": [
        {
          "output_type": "stream",
          "name": "stdout",
          "text": [
            "              precision    recall  f1-score   support\n",
            "\n",
            "           0       0.89      0.81      0.85      1633\n",
            "           1       0.81      0.89      0.85      1494\n",
            "\n",
            "    accuracy                           0.85      3127\n",
            "   macro avg       0.85      0.85      0.85      3127\n",
            "weighted avg       0.85      0.85      0.85      3127\n",
            "\n"
          ]
        }
      ]
    }
  ]
}